{
  "nbformat": 4,
  "nbformat_minor": 0,
  "metadata": {
    "colab": {
      "provenance": [],
      "authorship_tag": "ABX9TyOhiG0LLi82kmp7TfdlebzH",
      "include_colab_link": true
    },
    "kernelspec": {
      "name": "python3",
      "display_name": "Python 3"
    },
    "language_info": {
      "name": "python"
    }
  },
  "cells": [
    {
      "cell_type": "markdown",
      "metadata": {
        "id": "view-in-github",
        "colab_type": "text"
      },
      "source": [
        "<a href=\"https://colab.research.google.com/github/mounishvatti/machine-learning/blob/main/TensorFlow_Introduction.ipynb\" target=\"_parent\"><img src=\"https://colab.research.google.com/assets/colab-badge.svg\" alt=\"Open In Colab\"/></a>"
      ]
    },
    {
      "cell_type": "markdown",
      "source": [
        "# Importing TensorFlow"
      ],
      "metadata": {
        "id": "bGxGtCa0pCX4"
      }
    },
    {
      "cell_type": "code",
      "execution_count": 4,
      "metadata": {
        "id": "tOtLrXPYWQlO",
        "colab": {
          "base_uri": "https://localhost:8080/"
        },
        "outputId": "706e2c21-76c1-4fe9-ea55-def6d7829d37"
      },
      "outputs": [
        {
          "output_type": "stream",
          "name": "stdout",
          "text": [
            "<module 'tensorflow._api.v2.version' from '/usr/local/lib/python3.10/dist-packages/tensorflow/_api/v2/version/__init__.py'>\n"
          ]
        }
      ],
      "source": [
        "import tensorflow as tf\n",
        "print(tf.version)"
      ]
    },
    {
      "cell_type": "markdown",
      "source": [
        "# Creating Tensors\n",
        "\n",
        "Each tensor has a datatype and shape.\n",
        "\n",
        "**Data Types**: float32, int32, string and others.\n",
        "\n",
        "**Shape:** Represents the dimension of data."
      ],
      "metadata": {
        "id": "h--FOChupIsh"
      }
    },
    {
      "cell_type": "code",
      "source": [
        "string = tf.Variable(\"this is a string\", tf.string)\n",
        "number = tf.Variable(324, tf.int16)\n",
        "floating = tf.Variable(3.567, tf.float64)"
      ],
      "metadata": {
        "id": "bF85wv1ipOY0"
      },
      "execution_count": 5,
      "outputs": []
    },
    {
      "cell_type": "markdown",
      "source": [
        "# Rank/Degree of Tensors\n",
        "\n",
        "Number of dimensions involved in the tensor"
      ],
      "metadata": {
        "id": "R3RH70L1p44l"
      }
    },
    {
      "cell_type": "code",
      "source": [
        "rank1_tensor = tf.Variable([\"Test\"], tf.string)\n",
        "rank2_tensor = tf.Variable([[\"test\", \"ok\"], [\"test\", \"yes\"]], tf.string)"
      ],
      "metadata": {
        "id": "1Tx_VOa6qTZq"
      },
      "execution_count": 6,
      "outputs": []
    },
    {
      "cell_type": "markdown",
      "source": [
        "**To determine the rank** of the tensor we can call the following method"
      ],
      "metadata": {
        "id": "u6wTsa_0qYUw"
      }
    },
    {
      "cell_type": "code",
      "source": [
        "tf.rank(rank2_tensor)"
      ],
      "metadata": {
        "colab": {
          "base_uri": "https://localhost:8080/"
        },
        "id": "Wje9DLp_qebs",
        "outputId": "0e0c5a8a-3dbb-4aaa-f5e7-b5947eb02219"
      },
      "execution_count": 7,
      "outputs": [
        {
          "output_type": "execute_result",
          "data": {
            "text/plain": [
              "<tf.Tensor: shape=(), dtype=int32, numpy=2>"
            ]
          },
          "metadata": {},
          "execution_count": 7
        }
      ]
    },
    {
      "cell_type": "markdown",
      "source": [
        "# Shape of Tensors"
      ],
      "metadata": {
        "id": "1lBt7MH8qxON"
      }
    },
    {
      "cell_type": "code",
      "source": [
        "rank2_tensor.shape"
      ],
      "metadata": {
        "colab": {
          "base_uri": "https://localhost:8080/"
        },
        "id": "sbRK2WrGq6-f",
        "outputId": "298ea4fd-274c-43bc-f6cd-6998f2480861"
      },
      "execution_count": 9,
      "outputs": [
        {
          "output_type": "execute_result",
          "data": {
            "text/plain": [
              "TensorShape([2, 2])"
            ]
          },
          "metadata": {},
          "execution_count": 9
        }
      ]
    },
    {
      "cell_type": "code",
      "source": [
        "t = tf.ones([1,2,3])\n",
        "print(t)\n",
        "t_new = tf.reshape(t, [2,3,1])\n",
        "print(t_new)"
      ],
      "metadata": {
        "colab": {
          "base_uri": "https://localhost:8080/"
        },
        "id": "Ei8DWrApshGL",
        "outputId": "c35b30c8-0338-4dad-a86e-4cf5cae50eaf"
      },
      "execution_count": 10,
      "outputs": [
        {
          "output_type": "stream",
          "name": "stdout",
          "text": [
            "tf.Tensor(\n",
            "[[[1. 1. 1.]\n",
            "  [1. 1. 1.]]], shape=(1, 2, 3), dtype=float32)\n",
            "tf.Tensor(\n",
            "[[[1.]\n",
            "  [1.]\n",
            "  [1.]]\n",
            "\n",
            " [[1.]\n",
            "  [1.]\n",
            "  [1.]]], shape=(2, 3, 1), dtype=float32)\n"
          ]
        }
      ]
    },
    {
      "cell_type": "code",
      "source": [
        "t_flat = tf.reshape(t_new, [-1])\n",
        "print(t_flat)"
      ],
      "metadata": {
        "colab": {
          "base_uri": "https://localhost:8080/"
        },
        "id": "LNuLWLmAsv3f",
        "outputId": "4f866ace-71b0-43bf-a378-ec6fc344c5d5"
      },
      "execution_count": 11,
      "outputs": [
        {
          "output_type": "stream",
          "name": "stdout",
          "text": [
            "tf.Tensor([1. 1. 1. 1. 1. 1.], shape=(6,), dtype=float32)\n"
          ]
        }
      ]
    }
  ]
}