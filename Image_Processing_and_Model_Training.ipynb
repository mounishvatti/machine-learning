{
  "cells": [
    {
      "cell_type": "markdown",
      "metadata": {
        "id": "view-in-github",
        "colab_type": "text"
      },
      "source": [
        "<a href=\"https://colab.research.google.com/github/mounishvatti/machine-learning/blob/main/Image_Processing_and_Model_Training.ipynb\" target=\"_parent\"><img src=\"https://colab.research.google.com/assets/colab-badge.svg\" alt=\"Open In Colab\"/></a>"
      ]
    },
    {
      "cell_type": "code",
      "execution_count": 7,
      "metadata": {
        "id": "5wtB843O6LXQ"
      },
      "outputs": [],
      "source": [
        "import tensorflow as tf\n",
        "import keras"
      ]
    },
    {
      "cell_type": "code",
      "execution_count": 8,
      "metadata": {
        "colab": {
          "base_uri": "https://localhost:8080/"
        },
        "id": "jeHl-N2y6aOg",
        "outputId": "57ba7600-53a2-43b4-d02c-275dba502612"
      },
      "outputs": [
        {
          "output_type": "stream",
          "name": "stdout",
          "text": [
            "2.15.0\n"
          ]
        }
      ],
      "source": [
        "print(tf.__version__)"
      ]
    },
    {
      "cell_type": "code",
      "execution_count": 9,
      "metadata": {
        "colab": {
          "base_uri": "https://localhost:8080/"
        },
        "id": "me7nMTfJ6dvs",
        "outputId": "b99d1339-13df-47e2-c319-7a442ef287ff"
      },
      "outputs": [
        {
          "output_type": "stream",
          "name": "stdout",
          "text": [
            "2.15.0\n"
          ]
        }
      ],
      "source": [
        "print(keras.__version__)"
      ]
    },
    {
      "cell_type": "code",
      "source": [
        "(x_train, y_train), (x_test, y_test) = keras.datasets.mnist.load_data()"
      ],
      "metadata": {
        "colab": {
          "base_uri": "https://localhost:8080/"
        },
        "id": "KFGPGhGP7FeF",
        "outputId": "1b3677d3-cd6d-4e6f-99e2-f877c04da7da"
      },
      "execution_count": 10,
      "outputs": [
        {
          "output_type": "stream",
          "name": "stdout",
          "text": [
            "Downloading data from https://storage.googleapis.com/tensorflow/tf-keras-datasets/mnist.npz\n",
            "11490434/11490434 [==============================] - 0s 0us/step\n"
          ]
        }
      ]
    },
    {
      "cell_type": "code",
      "source": [
        "x_train"
      ],
      "metadata": {
        "colab": {
          "base_uri": "https://localhost:8080/"
        },
        "id": "qePZ0KuQ7mLX",
        "outputId": "6bccfcc3-668b-4272-df1b-1583a516c7ef"
      },
      "execution_count": 11,
      "outputs": [
        {
          "output_type": "execute_result",
          "data": {
            "text/plain": [
              "array([[[0, 0, 0, ..., 0, 0, 0],\n",
              "        [0, 0, 0, ..., 0, 0, 0],\n",
              "        [0, 0, 0, ..., 0, 0, 0],\n",
              "        ...,\n",
              "        [0, 0, 0, ..., 0, 0, 0],\n",
              "        [0, 0, 0, ..., 0, 0, 0],\n",
              "        [0, 0, 0, ..., 0, 0, 0]],\n",
              "\n",
              "       [[0, 0, 0, ..., 0, 0, 0],\n",
              "        [0, 0, 0, ..., 0, 0, 0],\n",
              "        [0, 0, 0, ..., 0, 0, 0],\n",
              "        ...,\n",
              "        [0, 0, 0, ..., 0, 0, 0],\n",
              "        [0, 0, 0, ..., 0, 0, 0],\n",
              "        [0, 0, 0, ..., 0, 0, 0]],\n",
              "\n",
              "       [[0, 0, 0, ..., 0, 0, 0],\n",
              "        [0, 0, 0, ..., 0, 0, 0],\n",
              "        [0, 0, 0, ..., 0, 0, 0],\n",
              "        ...,\n",
              "        [0, 0, 0, ..., 0, 0, 0],\n",
              "        [0, 0, 0, ..., 0, 0, 0],\n",
              "        [0, 0, 0, ..., 0, 0, 0]],\n",
              "\n",
              "       ...,\n",
              "\n",
              "       [[0, 0, 0, ..., 0, 0, 0],\n",
              "        [0, 0, 0, ..., 0, 0, 0],\n",
              "        [0, 0, 0, ..., 0, 0, 0],\n",
              "        ...,\n",
              "        [0, 0, 0, ..., 0, 0, 0],\n",
              "        [0, 0, 0, ..., 0, 0, 0],\n",
              "        [0, 0, 0, ..., 0, 0, 0]],\n",
              "\n",
              "       [[0, 0, 0, ..., 0, 0, 0],\n",
              "        [0, 0, 0, ..., 0, 0, 0],\n",
              "        [0, 0, 0, ..., 0, 0, 0],\n",
              "        ...,\n",
              "        [0, 0, 0, ..., 0, 0, 0],\n",
              "        [0, 0, 0, ..., 0, 0, 0],\n",
              "        [0, 0, 0, ..., 0, 0, 0]],\n",
              "\n",
              "       [[0, 0, 0, ..., 0, 0, 0],\n",
              "        [0, 0, 0, ..., 0, 0, 0],\n",
              "        [0, 0, 0, ..., 0, 0, 0],\n",
              "        ...,\n",
              "        [0, 0, 0, ..., 0, 0, 0],\n",
              "        [0, 0, 0, ..., 0, 0, 0],\n",
              "        [0, 0, 0, ..., 0, 0, 0]]], dtype=uint8)"
            ]
          },
          "metadata": {},
          "execution_count": 11
        }
      ]
    },
    {
      "cell_type": "code",
      "source": [
        "import matplotlib.pyplot as plt"
      ],
      "metadata": {
        "id": "fS3auxz57rTY"
      },
      "execution_count": 12,
      "outputs": []
    },
    {
      "cell_type": "code",
      "source": [
        "plt.imshow(x_train[0])"
      ],
      "metadata": {
        "colab": {
          "base_uri": "https://localhost:8080/",
          "height": 448
        },
        "id": "BenCFbvH8L1g",
        "outputId": "d24d6ca3-6137-4f71-9ac7-debf7ee8a1a2"
      },
      "execution_count": 13,
      "outputs": [
        {
          "output_type": "execute_result",
          "data": {
            "text/plain": [
              "<matplotlib.image.AxesImage at 0x7a6ee26e4100>"
            ]
          },
          "metadata": {},
          "execution_count": 13
        },
        {
          "output_type": "display_data",
          "data": {
            "text/plain": [
              "<Figure size 640x480 with 1 Axes>"
            ],
            "image/png": "[encoded data removed]"
          },
          "metadata": {}
        }
      ]
    },
    {
      "cell_type": "code",
      "source": [
        "from keras import Sequential\n",
        "from keras.layers import Dense, Flatten"
      ],
      "metadata": {
        "id": "Ra4uDDSu8ZOK"
      },
      "execution_count": 14,
      "outputs": []
    },
    {
      "cell_type": "code",
      "source": [
        "model = Sequential()\n",
        "\n",
        "model.add(Flatten(input_shape=(28,28)))\n",
        "\n",
        "model.add(Dense(units = 512, activation='relu'))\n",
        "model.add(Dense(units = 256, activation='relu'))\n",
        "model.add(Dense(units = 128, activation='relu'))\n",
        "\n",
        "model.add(Dense(units = 10, activation='softmax'))"
      ],
      "metadata": {
        "id": "FuWtRS9L9czZ"
      },
      "execution_count": 19,
      "outputs": []
    },
    {
      "cell_type": "code",
      "source": [
        "model.summary()"
      ],
      "metadata": {
        "colab": {
          "base_uri": "https://localhost:8080/"
        },
        "id": "r6qbHWabALxP",
        "outputId": "60fa0f7f-e82e-4542-b77d-4071102bb562"
      },
      "execution_count": 20,
      "outputs": [
        {
          "output_type": "stream",
          "name": "stdout",
          "text": [
            "Model: \"sequential_1\"\n",
            "_________________________________________________________________\n",
            " Layer (type)                Output Shape              Param #   \n",
            "=================================================================\n",
            " flatten_1 (Flatten)         (None, 784)               0         \n",
            "                                                                 \n",
            " dense_2 (Dense)             (None, 512)               401920    \n",
            "                                                                 \n",
            " dense_3 (Dense)             (None, 256)               131328    \n",
            "                                                                 \n",
            " dense_4 (Dense)             (None, 128)               32896     \n",
            "                                                                 \n",
            " dense_5 (Dense)             (None, 10)                1290      \n",
            "                                                                 \n",
            "=================================================================\n",
            "Total params: 567434 (2.16 MB)\n",
            "Trainable params: 567434 (2.16 MB)\n",
            "Non-trainable params: 0 (0.00 Byte)\n",
            "_________________________________________________________________\n"
          ]
        }
      ]
    },
    {
      "cell_type": "code",
      "source": [
        "model.compile(optimizer='adam',\n",
        "              loss='sparse_categorical_crossentropy',\n",
        "              metrics=['accuracy'])"
      ],
      "metadata": {
        "id": "bHMYfztTA5LO"
      },
      "execution_count": 21,
      "outputs": []
    },
    {
      "cell_type": "code",
      "source": [
        "model.fit(x_train, y_train, epochs=15, validation_data=(x_test, y_test))"
      ],
      "metadata": {
        "colab": {
          "base_uri": "https://localhost:8080/"
        },
        "id": "aJAZSKIzDsfW",
        "outputId": "08c18cb7-c562-4ce2-d4e6-dc5469375890"
      },
      "execution_count": 22,
      "outputs": [
        {
          "output_type": "stream",
          "name": "stdout",
          "text": [
            "Epoch 1/15\n",
            "1875/1875 [==============================] - 21s 11ms/step - loss: 0.9073 - accuracy: 0.8988 - val_loss: 0.2411 - val_accuracy: 0.9362\n",
            "Epoch 2/15\n",
            "1875/1875 [==============================] - 20s 11ms/step - loss: 0.1774 - accuracy: 0.9514 - val_loss: 0.2153 - val_accuracy: 0.9511\n",
            "Epoch 3/15\n",
            "1875/1875 [==============================] - 19s 10ms/step - loss: 0.1451 - accuracy: 0.9597 - val_loss: 0.1440 - val_accuracy: 0.9592\n",
            "Epoch 4/15\n",
            "1875/1875 [==============================] - 20s 11ms/step - loss: 0.1216 - accuracy: 0.9666 - val_loss: 0.1737 - val_accuracy: 0.9588\n",
            "Epoch 5/15\n",
            "1875/1875 [==============================] - 19s 10ms/step - loss: 0.1049 - accuracy: 0.9708 - val_loss: 0.1114 - val_accuracy: 0.9700\n",
            "Epoch 6/15\n",
            "1875/1875 [==============================] - 20s 11ms/step - loss: 0.0915 - accuracy: 0.9750 - val_loss: 0.1899 - val_accuracy: 0.9593\n",
            "Epoch 7/15\n",
            "1875/1875 [==============================] - 19s 10ms/step - loss: 0.0910 - accuracy: 0.9768 - val_loss: 0.1202 - val_accuracy: 0.9718\n",
            "Epoch 8/15\n",
            "1875/1875 [==============================] - 22s 12ms/step - loss: 0.0762 - accuracy: 0.9808 - val_loss: 0.1213 - val_accuracy: 0.9731\n",
            "Epoch 9/15\n",
            "1875/1875 [==============================] - 20s 11ms/step - loss: 0.0669 - accuracy: 0.9830 - val_loss: 0.1386 - val_accuracy: 0.9723\n",
            "Epoch 10/15\n",
            "1875/1875 [==============================] - 19s 10ms/step - loss: 0.0685 - accuracy: 0.9836 - val_loss: 0.1538 - val_accuracy: 0.9713\n",
            "Epoch 11/15\n",
            "1875/1875 [==============================] - 28s 15ms/step - loss: 0.0617 - accuracy: 0.9851 - val_loss: 0.1395 - val_accuracy: 0.9742\n",
            "Epoch 12/15\n",
            "1875/1875 [==============================] - 22s 12ms/step - loss: 0.0585 - accuracy: 0.9861 - val_loss: 0.1232 - val_accuracy: 0.9757\n",
            "Epoch 13/15\n",
            "1875/1875 [==============================] - 24s 13ms/step - loss: 0.0592 - accuracy: 0.9873 - val_loss: 0.1490 - val_accuracy: 0.9744\n",
            "Epoch 14/15\n",
            "1875/1875 [==============================] - 19s 10ms/step - loss: 0.0485 - accuracy: 0.9887 - val_loss: 0.1546 - val_accuracy: 0.9761\n",
            "Epoch 15/15\n",
            "1875/1875 [==============================] - 21s 11ms/step - loss: 0.0436 - accuracy: 0.9901 - val_loss: 0.1921 - val_accuracy: 0.9703\n"
          ]
        },
        {
          "output_type": "execute_result",
          "data": {
            "text/plain": [
              "<keras.src.callbacks.History at 0x7a6edc890f70>"
            ]
          },
          "metadata": {},
          "execution_count": 22
        }
      ]
    },
    {
      "cell_type": "code",
      "source": [
        "h = model.history.history"
      ],
      "metadata": {
        "id": "E1Lcp03zFTAa"
      },
      "execution_count": 23,
      "outputs": []
    },
    {
      "cell_type": "code",
      "source": [
        "plt.plot(h['accuracy'])\n",
        "plt.plot(h['val_accuracy'], c='red')\n",
        "plt.title('Accuracy')\n",
        "plt.show()"
      ],
      "metadata": {
        "colab": {
          "base_uri": "https://localhost:8080/",
          "height": 452
        },
        "id": "UDeU31vPHpHb",
        "outputId": "d93f4f34-ea12-4017-ae9f-d872111be0fc"
      },
      "execution_count": 24,
      "outputs": [
        {
          "output_type": "display_data",
          "data": {
            "text/plain": [
              "<Figure size 640x480 with 1 Axes>"
            ],
            "image/png": "[encoded data removed]"
          },
          "metadata": {}
        }
      ]
    },
    {
      "cell_type": "code",
      "source": [],
      "metadata": {
        "id": "ya9eu7a7KDqq"
      },
      "execution_count": null,
      "outputs": []
    }
  ],
  "metadata": {
    "colab": {
      "provenance": [],
      "authorship_tag": "ABX9TyMYjejtLyLXCqz5IdjuVJCC",
      "include_colab_link": true
    },
    "kernelspec": {
      "display_name": "Python 3",
      "name": "python3"
    },
    "language_info": {
      "name": "python"
    }
  },
  "nbformat": 4,
  "nbformat_minor": 0
}